{
  "nbformat": 4,
  "nbformat_minor": 0,
  "metadata": {
    "colab": {
      "provenance": []
    },
    "kernelspec": {
      "name": "python3",
      "display_name": "Python 3"
    },
    "language_info": {
      "name": "python"
    }
  },
  "cells": [
    {
      "cell_type": "code",
      "execution_count": 13,
      "metadata": {
        "colab": {
          "base_uri": "https://localhost:8080/"
        },
        "id": "bt6xvV99JcRw",
        "outputId": "bb476c1e-37ac-4f68-fb82-e8dd4a7473bb"
      },
      "outputs": [
        {
          "output_type": "stream",
          "name": "stdout",
          "text": [
            "Requirement already satisfied: tinyec in /usr/local/lib/python3.10/dist-packages (0.4.0)\n"
          ]
        }
      ],
      "source": [
        "pip install tinyec"
      ]
    },
    {
      "cell_type": "code",
      "source": [
        "pip install pycryptodome"
      ],
      "metadata": {
        "colab": {
          "base_uri": "https://localhost:8080/"
        },
        "id": "1QxjiPGYmfCj",
        "outputId": "ccee3f13-56fd-4037-ff22-3dbdeaff640d"
      },
      "execution_count": 2,
      "outputs": [
        {
          "output_type": "stream",
          "name": "stdout",
          "text": [
            "Collecting pycryptodome\n",
            "  Downloading pycryptodome-3.20.0-cp35-abi3-manylinux_2_17_x86_64.manylinux2014_x86_64.whl (2.1 MB)\n",
            "\u001b[?25l     \u001b[90m━━━━━━━━━━━━━━━━━━━━━━━━━━━━━━━━━━━━━━━━\u001b[0m \u001b[32m0.0/2.1 MB\u001b[0m \u001b[31m?\u001b[0m eta \u001b[36m-:--:--\u001b[0m\r\u001b[2K     \u001b[91m━\u001b[0m\u001b[90m╺\u001b[0m\u001b[90m━━━━━━━━━━━━━━━━━━━━━━━━━━━━━━━━━━━━━━\u001b[0m \u001b[32m0.1/2.1 MB\u001b[0m \u001b[31m1.8 MB/s\u001b[0m eta \u001b[36m0:00:02\u001b[0m\r\u001b[2K     \u001b[91m━━━━━━━━━━━━━━━━━━━━━━━━━━━━\u001b[0m\u001b[90m╺\u001b[0m\u001b[90m━━━━━━━━━━━\u001b[0m \u001b[32m1.5/2.1 MB\u001b[0m \u001b[31m21.8 MB/s\u001b[0m eta \u001b[36m0:00:01\u001b[0m\r\u001b[2K     \u001b[90m━━━━━━━━━━━━━━━━━━━━━━━━━━━━━━━━━━━━━━━━\u001b[0m \u001b[32m2.1/2.1 MB\u001b[0m \u001b[31m22.2 MB/s\u001b[0m eta \u001b[36m0:00:00\u001b[0m\n",
            "\u001b[?25hInstalling collected packages: pycryptodome\n",
            "Successfully installed pycryptodome-3.20.0\n"
          ]
        }
      ]
    },
    {
      "cell_type": "code",
      "source": [
        "pip install qrcode"
      ],
      "metadata": {
        "colab": {
          "base_uri": "https://localhost:8080/"
        },
        "id": "sBwmTbFAmhEO",
        "outputId": "c18ee51f-9ab5-4293-cd56-3cd23b5f07c2"
      },
      "execution_count": 14,
      "outputs": [
        {
          "output_type": "stream",
          "name": "stdout",
          "text": [
            "Requirement already satisfied: qrcode in /usr/local/lib/python3.10/dist-packages (7.4.2)\n",
            "Requirement already satisfied: typing-extensions in /usr/local/lib/python3.10/dist-packages (from qrcode) (4.9.0)\n",
            "Requirement already satisfied: pypng in /usr/local/lib/python3.10/dist-packages (from qrcode) (0.20220715.0)\n"
          ]
        }
      ]
    },
    {
      "cell_type": "markdown",
      "source": [
        "**Kode untuk mengenerate sepasang kunci ECC**"
      ],
      "metadata": {
        "id": "FRR487_sEKv7"
      }
    },
    {
      "cell_type": "code",
      "source": [
        "# Import library tinyec\n",
        "from tinyec import registry\n",
        "import secrets\n",
        "\n",
        "# Fungsi untuk mengenerate sepasang kunci ECC dengan nama kurva eliptik sebagai argumen\n",
        "def generate_ecc_keys(curve_name):\n",
        "  # Dapatkan objek kurva eliptik dari registry berdasarkan nama kurva eliptik\n",
        "  curve = registry.get_curve(curve_name)\n",
        "  # Buat kunci privat ECC secara acak\n",
        "  private_key = secrets.randbelow(curve.field.n)\n",
        "  # Buat kunci publik ECC dengan mengalikan kunci privat dengan generator point\n",
        "  public_key = private_key * curve.g\n",
        "  # Kembalikan kunci publik dan privat ECC\n",
        "  return public_key, private_key\n",
        "\n",
        "# Contoh penggunaan fungsi di atas\n",
        "# Pilih nama kurva eliptik yang diinginkan, misalnya brainpoolP256r1\n",
        "curve_name = \"brainpoolP256r1\"\n",
        "# Buat sepasang kunci ECC dengan nama kurva eliptik tersebut\n",
        "public_key, private_key = generate_ecc_keys(curve_name)\n",
        "# Cetak kunci ECC dalam bentuk heksadesimal\n",
        "print(\"Public key:\", public_key.x.to_bytes(32, 'big').hex() + public_key.y.to_bytes(32, 'big').hex())\n",
        "print(\"Private key:\", private_key.to_bytes(32, 'big').hex())\n"
      ],
      "metadata": {
        "colab": {
          "base_uri": "https://localhost:8080/"
        },
        "id": "5TxchuO7K0W2",
        "outputId": "a6ae529f-6959-4ffb-c7a1-a3bbc54edb4d"
      },
      "execution_count": 16,
      "outputs": [
        {
          "output_type": "stream",
          "name": "stdout",
          "text": [
            "Public key: 24dc0fb004b9d4d076ced6205e4241ae13ffeac2d582d3ec32acb8b0bd62cb2f2bde155d614412f7dfe58a42c23c89427cdd2d74bf9526c32eb0fa6db1ca6e85\n",
            "Private key: 964da640f9afdbaa6af7da558d59eeb751543475130da18ffeb63ab1a09f2682\n"
          ]
        }
      ]
    },
    {
      "cell_type": "markdown",
      "source": [
        "**Kode untuk melakukan Enkripsi dengan ECC**"
      ],
      "metadata": {
        "id": "GU8iO-esoigL"
      }
    },
    {
      "cell_type": "code",
      "source": [
        "# Import library tinyec dan pycryptodome\n",
        "from tinyec import registry\n",
        "from Crypto.Cipher import AES\n",
        "from Crypto.Hash import SHA256\n",
        "import secrets\n",
        "from tinyec import ec\n",
        "\n",
        "# Fungsi untuk mengubah string menjadi objek point\n",
        "def string_to_point(string, curve_name):\n",
        "  # Pisahkan string menjadi dua bagian yang sama panjang\n",
        "  half = len(string) // 2\n",
        "  x_string = string[:half]\n",
        "  y_string = string[half:]\n",
        "  # Ubah x dan y dari heksadesimal menjadi integer\n",
        "  x = int(x_string, 16)\n",
        "  y = int(y_string, 16)\n",
        "  # Dapatkan objek kurva eliptik dari registry\n",
        "  curve = registry.get_curve(curve_name)\n",
        "  # Buat objek point dengan kurva, x, dan y\n",
        "  point = ec.Point(curve, x, y)\n",
        "  # Kembalikan objek point\n",
        "  return point\n",
        "\n",
        "# Fungsi untuk mengubah string menjadi integer\n",
        "def string_to_integer(string):\n",
        "  # Ubah string dari heksadesimal menjadi integer\n",
        "  integer = int(string, 16)\n",
        "  # Kembalikan integer\n",
        "  return integer\n",
        "\n",
        "# Tambahan\n",
        "# Fungsi untuk mengubah string public key, string private key, dan curve name menjadi kunci publik dan kunci privat ECC\n",
        "def get_ecc_public_key(public_key_string,curve_name):\n",
        "  # Ubah string public key menjadi objek point\n",
        "  public_key = string_to_point(public_key_string, curve_name)\n",
        "  # Kembalikan kunci publik ECC\n",
        "  return public_key\n",
        "\n",
        "# Fungsi untuk mengenkripsi pesan dengan kunci publik ECC\n",
        "def encrypt_ecc(message, public_key):\n",
        "  # Pilih kurva eliptik yang sama dengan kunci publik\n",
        "  curve = registry.get_curve(public_key.curve.name)\n",
        "  # Buat kunci privat sementara (ephemeral) secara acak\n",
        "  ephemeral_private_key = secrets.randbelow(curve.field.n)\n",
        "  # Buat kunci publik sementara dengan mengalikan kunci privat sementara dengan generator point\n",
        "  ephemeral_public_key = ephemeral_private_key * curve.g\n",
        "  # Hitung kunci ECC yang dibagi dengan mengalikan kunci publik ECC dengan kunci privat sementara\n",
        "  shared_ecc_key = ephemeral_private_key * public_key\n",
        "  # Ubah kunci ECC yang dibagi menjadi kunci AES dengan menggunakan fungsi hash SHA256\n",
        "  shared_aes_key = SHA256.new(shared_ecc_key.x.to_bytes(32, 'big')).digest()\n",
        "  # Buat objek AES dengan mode GCM (Galois Counter Mode) yang mendukung autentikasi\n",
        "  aes = AES.new(shared_aes_key, AES.MODE_GCM)\n",
        "  # Enkripsi pesan dengan AES dan dapatkan ciphertext dan tag autentikasi\n",
        "  ciphertext, tag = aes.encrypt_and_digest(message.encode('utf-8'))\n",
        "  # Kembalikan ciphertext, tag, nonce, dan kunci publik sementara\n",
        "  return ciphertext, tag, aes.nonce, ephemeral_public_key\n",
        "\n",
        "# Berikan string public key, string private key, dan nama kurva eliptik yang Anda gunakan\n",
        "public_key_string = \"2a40d80e739f163bde8f2bd471a637f9ec6f17cf0e78fe497c7ea40d90e84b62955ce37843a0c7a5e10a630c4d2e1e8199c9c15d208cfa4d4692298818510e68\"\n",
        "curve_name = \"brainpoolP256r1\"\n",
        "# Ubah string menjadi kunci publik dan kunci privat ECC\n",
        "public_key = get_ecc_public_key(public_key_string, curve_name)\n",
        "# Buat pesan yang ingin dikirim\n",
        "message = \"bf33c3a6cca740fb8aabb1f9c8f3a1e2871d75f0a3e7e3027857963610d3f652\"\n",
        "# Enkripsi pesan dengan kunci publik ECC\n",
        "ciphertext, tag, nonce, ephemeral_public_key = encrypt_ecc(message, public_key)\n",
        "# Cetak ciphertext dan kunci publik sementara dalam bentuk heksadesimal\n",
        "print(\"Ciphertext:\", ciphertext.hex())\n"
      ],
      "metadata": {
        "colab": {
          "base_uri": "https://localhost:8080/"
        },
        "id": "jYxjr4vimNwh",
        "outputId": "4b43c9e1-4efb-4c58-9c29-0b2bac939c04"
      },
      "execution_count": 13,
      "outputs": [
        {
          "output_type": "stream",
          "name": "stdout",
          "text": [
            "Ciphertext: ce6ae1ce2312786b7ae6eb7aea0ff735b379236c4847f00094082ac0ab275e843104116ab79f46b0ed6674aeece8cc935cb9d2259f50d62904d0b0abee56741f\n"
          ]
        }
      ]
    },
    {
      "cell_type": "markdown",
      "source": [
        "**Kode untuk melakukan dekrip dari chipertext yang dibuat oleh lembar kode enkripsi sebelumnya**"
      ],
      "metadata": {
        "id": "R3MnMoGzvNIz"
      }
    },
    {
      "cell_type": "code",
      "source": [
        "# Import library tinyec dan pycryptodome\n",
        "from tinyec import registry\n",
        "from Crypto.Cipher import AES\n",
        "from Crypto.Hash import SHA256\n",
        "import secrets\n",
        "from tinyec import ec\n",
        "\n",
        "# Fungsi untuk mengubah string menjadi objek point\n",
        "def string_to_point(string, curve_name):\n",
        "  # Pisahkan string menjadi dua bagian yang sama panjang\n",
        "  half = len(string) // 2\n",
        "  x_string = string[:half]\n",
        "  y_string = string[half:]\n",
        "  # Ubah x dan y dari heksadesimal menjadi integer\n",
        "  x = int(x_string, 16)\n",
        "  y = int(y_string, 16)\n",
        "  # Dapatkan objek kurva eliptik dari registry\n",
        "  curve = registry.get_curve(curve_name)\n",
        "  # Buat objek point dengan kurva, x, dan y\n",
        "  point = ec.Point(curve, x, y)\n",
        "  # Kembalikan objek point\n",
        "  return point\n",
        "\n",
        "# Fungsi untuk mengubah string menjadi integer\n",
        "def string_to_integer(string):\n",
        "  # Ubah string dari heksadesimal menjadi integer\n",
        "  integer = int(string, 16)\n",
        "  # Kembalikan integer\n",
        "  return integer\n",
        "\n",
        "# Fungsi untuk mengubah string public key, string private key, dan curve name menjadi kunci publik dan kunci privat ECC\n",
        "def get_ecc_private_key(private_key_string, curve_name):\n",
        "  # Ubah string private key menjadi integer\n",
        "  private_key = string_to_integer(private_key_string)\n",
        "  # Kembalikan kunci publik dan privat ECC\n",
        "  return private_key\n",
        "\n",
        "# Fungsi untuk mendekripsi pesan dengan kunci privat ECC\n",
        "def decrypt_ecc(ciphertext, tag, nonce, ephemeral_public_key, private_key):\n",
        "  # Hitung kunci ECC yang dibagi dengan mengalikan kunci publik sementara dengan kunci privat ECC\n",
        "  shared_ecc_key = private_key * ephemeral_public_key\n",
        "  # Ubah kunci ECC yang dibagi menjadi kunci AES dengan menggunakan fungsi hash SHA256\n",
        "  shared_aes_key = SHA256.new(shared_ecc_key.x.to_bytes(32, 'big')).digest()\n",
        "  # Buat objek AES dengan mode GCM dan nonce yang diberikan\n",
        "  aes = AES.new(shared_aes_key, AES.MODE_GCM, nonce=nonce)\n",
        "  # Dekripsi ciphertext dengan AES dan verifikasi tag autentikasi\n",
        "  message = aes.decrypt_and_verify(ciphertext, tag).decode('utf-8')\n",
        "  # Kembalikan pesan yang didekripsi\n",
        "  return message\n",
        "\n",
        "# Contoh penggunaan fungsi-fungsi di atas\n",
        "# Berikan string public key, nama kurva eliptik yang Anda gunakan\n",
        "private_key_string = \"0fa1e98f25425693110756477ae706bc19c5d7a3d27dc2618da8b5eb8e7f5e40\"\n",
        "curve_name = \"brainpoolP256r1\"\n",
        "# Ubah string menjadi kunci publik dan kunci privat ECC\n",
        "private_key = get_ecc_private_key(private_key_string, curve_name)\n",
        "# Baris ini memerlukan informasi tag, nonce dan ephemeral_public_key pada proses enkripsi sebelumnya, yang tersimpan di memori\n",
        "coba = \"159b22f1759cfcb7923a0a13eb81b0c50f6f19368eda0c545cfa85a982de6a78e853742670a0105658db80b86f18dfcd459d2a71fe8aa484a269daeb70a19f2a\"\n",
        "# Dekripsi pesan dengan kunci privat ECC\n",
        "decrypted_message = decrypt_ecc(ciphertext, tag, nonce, ephemeral_public_key, private_key)\n",
        "# Cetak pesan yang didekripsi\n",
        "print(\"Decrypted message:\", decrypted_message)\n",
        "print(ciphertext)\n"
      ],
      "metadata": {
        "colab": {
          "base_uri": "https://localhost:8080/"
        },
        "id": "oK_OKDpO2O4d",
        "outputId": "bd65a9b3-6016-4b7e-e6b7-bf8d8be86aec"
      },
      "execution_count": 58,
      "outputs": [
        {
          "output_type": "stream",
          "name": "stdout",
          "text": [
            "Decrypted message: e6da202a9cf706076c5097f9688fe33f652ac5447e298a18318cac9b6d4c3d96\n",
            "b'\\x15\\x9b\"\\xf1u\\x9c\\xfc\\xb7\\x92:\\n\\x13\\xeb\\x81\\xb0\\xc5\\x0fo\\x196\\x8e\\xda\\x0cT\\\\\\xfa\\x85\\xa9\\x82\\xdejx\\xe8St&p\\xa0\\x10VX\\xdb\\x80\\xb8o\\x18\\xdf\\xcdE\\x9d*q\\xfe\\x8a\\xa4\\x84\\xa2i\\xda\\xebp\\xa1\\x9f*'\n"
          ]
        }
      ]
    },
    {
      "cell_type": "markdown",
      "source": [
        "**Kode Server untuk build label produk (Qrcode)**"
      ],
      "metadata": {
        "id": "BV6l3UfT1W1c"
      }
    },
    {
      "cell_type": "code",
      "source": [
        "# Import library tinyec dan pycryptodome\n",
        "from tinyec import registry\n",
        "from Crypto.Cipher import AES\n",
        "from Crypto.Hash import SHA256\n",
        "from Crypto.PublicKey import ECC\n",
        "import secrets\n",
        "from tinyec import ec\n",
        "import qrcode\n",
        "\n",
        "# Fungsi untuk mengubah string menjadi objek point\n",
        "def string_to_point(string, curve_name):\n",
        "  # Pisahkan string menjadi dua bagian yang sama panjang\n",
        "  half = len(string) // 2\n",
        "  x_string = string[:half]\n",
        "  y_string = string[half:]\n",
        "  # Ubah x dan y dari heksadesimal menjadi integer\n",
        "  x = int(x_string, 16)\n",
        "  y = int(y_string, 16)\n",
        "  # Dapatkan objek kurva eliptik dari registry\n",
        "  curve = registry.get_curve(curve_name)\n",
        "  # Buat objek point dengan kurva, x, dan y\n",
        "  point = ec.Point(curve, x, y)\n",
        "  # Kembalikan objek point\n",
        "  return point\n",
        "\n",
        "# Fungsi untuk mengubah string menjadi integer\n",
        "def string_to_integer(string):\n",
        "  # Ubah string dari heksadesimal menjadi integer\n",
        "  integer = int(string, 16)\n",
        "  # Kembalikan integer\n",
        "  return integer\n",
        "\n",
        "# Tambahan\n",
        "# Fungsi untuk mengubah string public key, string private key, dan curve name menjadi kunci publik dan kunci privat ECC\n",
        "def get_ecc_public_key(public_key_string,curve_name):\n",
        "  # Ubah string public key menjadi objek point\n",
        "  public_key = string_to_point(public_key_string, curve_name)\n",
        "  # Kembalikan kunci publik ECC\n",
        "  return public_key\n",
        "\n",
        "# Fungsi untuk mengenkripsi pesan dengan kunci publik ECC\n",
        "def encrypt_ecc(message, public_key):\n",
        "  # Pilih kurva eliptik yang sama dengan kunci publik\n",
        "  curve = registry.get_curve(public_key.curve.name)\n",
        "  # Buat kunci privat sementara (ephemeral) secara acak\n",
        "  ephemeral_private_key = secrets.randbelow(curve.field.n)\n",
        "  # Buat kunci publik sementara dengan mengalikan kunci privat sementara dengan generator point\n",
        "  ephemeral_public_key = ephemeral_private_key * curve.g\n",
        "  # Hitung kunci ECC yang dibagi dengan mengalikan kunci publik ECC dengan kunci privat sementara\n",
        "  shared_ecc_key = ephemeral_private_key * public_key\n",
        "  # Ubah kunci ECC yang dibagi menjadi kunci AES dengan menggunakan fungsi hash SHA256\n",
        "  shared_aes_key = SHA256.new(shared_ecc_key.x.to_bytes(32, 'big')).digest()\n",
        "  # Buat objek AES dengan mode GCM (Galois Counter Mode) yang mendukung autentikasi\n",
        "  aes = AES.new(shared_aes_key, AES.MODE_GCM)\n",
        "  # Enkripsi pesan dengan AES dan dapatkan ciphertext dan tag autentikasi\n",
        "  ciphertext, tag = aes.encrypt_and_digest(message.encode('utf-8'))\n",
        "  # Kembalikan ciphertext, tag, nonce, dan kunci publik sementara\n",
        "  return ciphertext, tag, aes.nonce, ephemeral_public_key\n",
        "\n",
        "# Fungsi untuk melakukan hash terhadap data\n",
        "def hash_sha256_string(string):\n",
        "  # Membuat string yang ingin di-hash\n",
        "  string_to_hash = string\n",
        "  # Membuat objek hash SHA256\n",
        "  hash_object = hashlib.sha256()\n",
        "  # Menambahkan data string ke objek hash\n",
        "  hash_object.update(string_to_hash.encode())\n",
        "  # Mendapatkan nilai hash dalam format heksadesimal\n",
        "  hex_digest = hash_object.hexdigest()\n",
        "  # Mengembalikasn nilai hash\n",
        "  return hex_digest\n",
        "\n",
        "def hash_string(text):\n",
        "  # Membuat objek hash baru\n",
        "  hash_object = SHA256.new()\n",
        "  # Menambahkan data yang ingin di-hash\n",
        "  hash_object.update(text.encode())\n",
        "  # Mendapatkan hasil hash dalam bentuk heksadesimal\n",
        "  hash_result = hash_object.hexdigest()\n",
        "  # Mengembalikan hasil hash\n",
        "  return hash_result\n",
        "\n",
        "def encode_to_qrcode(string):\n",
        "  # Membuat objek qrcode\n",
        "  qr = qrcode.QRCode()\n",
        "  # Menambahkan data ke objek qrcode\n",
        "  qr.add_data(string)\n",
        "  # Membuat qrcode\n",
        "  img = qr.make_image()\n",
        "  # Menyimpan qrcode sebagai gambar PNG\n",
        "  img.save(\"qrcode.png\")\n",
        "  # Menampilkan gambar qrcode\n",
        "  return img\n",
        "\n",
        "# Berikan string public key, string private key, dan nama kurva eliptik yang Anda gunakan\n",
        "public_key_string = \"2a40d80e739f163bde8f2bd471a637f9ec6f17cf0e78fe497c7ea40d90e84b62955ce37843a0c7a5e10a630c4d2e1e8199c9c15d208cfa4d4692298818510e68\"\n",
        "curve_name = \"brainpoolP256r1\"\n",
        "# Ubah string menjadi kunci publik dan kunci privat ECC\n",
        "public_key = get_ecc_public_key(public_key_string, curve_name)\n",
        "# Buat pesan yang ingin dikirim\n",
        "message = '{\"nzmzm\":\"ini percobaan bro\"}'\n",
        "message_hash_sha256 = hash_string(message)\n",
        "# Enkripsi pesan dengan kunci publik ECC\n",
        "ciphertext, tag, nonce, ephemeral_public_key = encrypt_ecc(message_hash_sha256, public_key)\n",
        "# Enkode chipertext ke qrcode\n",
        "qrcode_chipertext = encode_to_qrcode(ciphertext.hex())\n",
        "\n",
        "# Menyimpan ephemeral_public_key_string ke file\n",
        "with open(\"tag.txt\", \"w\") as f:\n",
        "  f.write(tag.hex())\n",
        "\n",
        "# Menyimpan ephemeral_public_key_string ke file\n",
        "with open(\"nonce.txt\", \"w\") as f:\n",
        "  f.write(nonce.hex())\n",
        "\n",
        "# Mengubah ephemeral_public_key menjadi string\n",
        "#ephemeral_public_key_string = str(ephemeral_public_key)\n",
        "#ephemeral_public_key_string = ephemeral_public_key.to_string('hex')\n",
        "ephemeral_public_key_string = '%x%x' % (ephemeral_public_key.x, ephemeral_public_key.y)\n",
        "\n",
        "# Menyimpan ephemeral_public_key_string ke file\n",
        "with open(\"ephemeral_public_key.txt\", \"w\") as f:\n",
        "  f.write(ephemeral_public_key_string)\n",
        "\n",
        "# Cetak ciphertext, hash, tag, nonce dan ephemeral_public_key_string\n",
        "print(\"hash:\",message_hash_sha256)\n",
        "print(\"Ciphertext:\", ciphertext.hex())\n",
        "print(\"tag:\", tag.hex())\n",
        "print(\"nonce:\", nonce.hex())\n",
        "print(\"ephemeral_public_key_string:\", ephemeral_public_key_string)\n",
        "qrcode_chipertext\n"
      ],
      "metadata": {
        "colab": {
          "base_uri": "https://localhost:8080/",
          "height": 674
        },
        "id": "K_PoY6x81fSc",
        "outputId": "fc4e9a20-8fbd-4789-eadf-73abfafa0d64"
      },
      "execution_count": 23,
      "outputs": [
        {
          "output_type": "stream",
          "name": "stdout",
          "text": [
            "hash: e6da202a9cf706076c5097f9688fe33f652ac5447e298a18318cac9b6d4c3d96\n",
            "Ciphertext: d6bb3afa501398ab957ad0638b918ba47009649b05e42f872dfdb9a03f97019cf10e084b0f2d46f8e99fa7278bb43b0a96556d844f5a824ee1663029b4fc1a80\n",
            "tag: 024eaf14426d6cbc510b2a6bd3426fdb\n",
            "nonce: 92c4f1842072b13923ef649415d95f49\n",
            "ephemeral_public_key_string: 6588bb827ec6095dd0440d2ea31aeaec448e45da351e014346d4a47f247c5db39f315c52483e3a626861ce8ba2f072040668a4b3e9c7785b5f64a2a618640be8\n"
          ]
        },
        {
          "output_type": "execute_result",
          "data": {
            "text/plain": [
              "<qrcode.image.pil.PilImage at 0x78c56f413760>"
            ],
            "image/png": "[encoded data removed]"
          },
          "metadata": {},
          "execution_count": 23
        }
      ]
    },
    {
      "cell_type": "code",
      "source": [
        "# Import library tinyec\n",
        "from tinyec import registry\n",
        "\n",
        "# Fungsi untuk menampilkan semua atribut dari tinyec.registry\n",
        "def show_registry_attributes():\n",
        "  # Dapatkan list nama atribut dari tinyec.registry\n",
        "  attributes = dir(curve)\n",
        "  # Cetak list nama atribut\n",
        "  print(\"List nama atribut dari tinyec.registry:\")\n",
        "  for attribute in attributes:\n",
        "    print(attribute)\n",
        "\n",
        "# Contoh penggunaan fungsi di atas\n",
        "show_registry_attributes()\n"
      ],
      "metadata": {
        "id": "h7u3bnHf0C_Y"
      },
      "execution_count": null,
      "outputs": []
    },
    {
      "cell_type": "markdown",
      "source": [
        "**Kode di sisi client dari protokol traceability**"
      ],
      "metadata": {
        "id": "Vk3CWYsfNFhf"
      }
    },
    {
      "cell_type": "code",
      "source": [
        "# Import library tinyec dan pycryptodome\n",
        "from tinyec import registry\n",
        "from Crypto.Cipher import AES\n",
        "from Crypto.Hash import SHA256\n",
        "import secrets\n",
        "from tinyec import ec\n",
        "import cv2\n",
        "\n",
        "# Fungsi untuk mengubah string menjadi objek point\n",
        "def string_to_point(string, curve_name):\n",
        "  # Pisahkan string menjadi dua bagian yang sama panjang\n",
        "  half = len(string) // 2\n",
        "  x_string = string[:half]\n",
        "  y_string = string[half:]\n",
        "  # Ubah x dan y dari heksadesimal menjadi integer\n",
        "  x = int(x_string, 16)\n",
        "  y = int(y_string, 16)\n",
        "  # Dapatkan objek kurva eliptik dari registry\n",
        "  curve = registry.get_curve(curve_name)\n",
        "  # Buat objek point dengan kurva, x, dan y\n",
        "  point = ec.Point(curve, x, y)\n",
        "  # Kembalikan objek point\n",
        "  return point\n",
        "\n",
        "# Fungsi untuk mengubah string menjadi integer\n",
        "def string_to_integer(string):\n",
        "  # Ubah string dari heksadesimal menjadi integer\n",
        "  integer = int(string, 16)\n",
        "  # Kembalikan integer\n",
        "  return integer\n",
        "\n",
        "# Fungsi untuk mengubah string public key, string private key, dan curve name menjadi kunci publik dan kunci privat ECC\n",
        "def get_ecc_private_key(private_key_string, curve_name):\n",
        "  # Ubah string private key menjadi integer\n",
        "  private_key = string_to_integer(private_key_string)\n",
        "  # Kembalikan kunci publik dan privat ECC\n",
        "  return private_key\n",
        "\n",
        "# Fungsi untuk mendekripsi pesan dengan kunci privat ECC\n",
        "def decrypt_ecc(ciphertext, tag, nonce, ephemeral_public_key, private_key):\n",
        "  # Hitung kunci ECC yang dibagi dengan mengalikan kunci publik sementara dengan kunci privat ECC\n",
        "  shared_ecc_key = private_key * ephemeral_public_key\n",
        "  # Ubah kunci ECC yang dibagi menjadi kunci AES dengan menggunakan fungsi hash SHA256\n",
        "  shared_aes_key = SHA256.new(shared_ecc_key.x.to_bytes(32, 'big')).digest()\n",
        "  # Buat objek AES dengan mode GCM dan nonce yang diberikan\n",
        "  aes = AES.new(shared_aes_key, AES.MODE_GCM, nonce=nonce)\n",
        "  # Dekripsi ciphertext dengan AES dan verifikasi tag autentikasi\n",
        "  message = aes.decrypt_and_verify(ciphertext, tag).decode('utf-8')\n",
        "  # Kembalikan pesan yang didekripsi\n",
        "  return message\n",
        "\n",
        "# Fungsi untuk mendekode qrcode label produk\n",
        "def decode_qrcode(qrcode_img_png):\n",
        "  # Load the QR code image\n",
        "  img = cv2.imread(qrcode_img_png)\n",
        "  # Convert the image to grayscale\n",
        "  gray = cv2.cvtColor(img, cv2.COLOR_BGR2GRAY)\n",
        "  # Create a QR code detector\n",
        "  detector = cv2.QRCodeDetector()\n",
        "  # Detect and decode the QR code\n",
        "  data, bbox, _ = detector.detectAndDecode(gray)\n",
        "  # Print the decoded data\n",
        "  if data:\n",
        "    return data\n",
        "  else:\n",
        "    return \"No QR code found\"\n",
        "\n",
        "# dekode qrcode\n",
        "qrcode_img_png = \"qrcode.png\"\n",
        "qrcode_string = decode_qrcode(qrcode_img_png)\n",
        "\n",
        "# Berikan string public key, nama kurva eliptik yang Anda gunakan\n",
        "private_key_string = \"0fa1e98f25425693110756477ae706bc19c5d7a3d27dc2618da8b5eb8e7f5e40\"\n",
        "curve_name = \"brainpoolP256r1\"\n",
        "\n",
        "# Ubah string menjadi kunci publik dan kunci privat ECC\n",
        "private_key = get_ecc_private_key(private_key_string, curve_name)\n",
        "\n",
        "message = bytes.fromhex(qrcode_string)\n",
        "# Baris ini memerlukan informasi tag, nonce dan ephemeral_public_key pada proses enkripsi sebelumnya, yang tersimpan di memori\n",
        "# Dekripsi pesan dengan kunci privat ECC, dengan syarat tag, nonce dan ephemeral_public_key berasal dari server, untuk demo ini ketiganya disederhanakan tanpa harus unduh dari server, asalkan proses demo enkrip dan dekrip dalam komputer yang sama dan sesi google colab yang sama\n",
        "\n",
        "# Membaca string hex yang berisi tag dari file\n",
        "with open(\"tag.txt\", \"r\") as f:\n",
        "  tag_hex = f.read()\n",
        "\n",
        "# Membaca string hex yang berisi nonce dari file\n",
        "with open(\"nonce.txt\", \"r\") as f:\n",
        "  nonce_hex = f.read()\n",
        "\n",
        "# Membaca string hex yang berisi ephemeral_public_key dari file\n",
        "with open(\"ephemeral_public_key.txt\", \"r\") as f:\n",
        "  ephemeral_public_key_string = f.read()\n",
        "\n",
        "# Mengubah string hex yang berisi tag dan nonce menjadi bertipe bytes\n",
        "tag = bytes.fromhex(tag_hex)\n",
        "nonce = bytes.fromhex(nonce_hex)\n",
        "\n",
        "# Mengubah string hex yang berisi ephemeral_public_key menjadi objek poin\n",
        "# Mengubah string yang berisi ephemeral_public_key menjadi objek poin\n",
        "curve = registry.get_curve('brainpoolP256r1')\n",
        "# Mengubah string hex yang berisi ephemeral_public_key menjadi objek poin\n",
        "curve = registry.get_curve('brainpoolP256r1')\n",
        "half = len(ephemeral_public_key_string) // 2\n",
        "ephemeral_public_key_x = int(ephemeral_public_key_string[:half], 16)\n",
        "ephemeral_public_key_y = int(ephemeral_public_key_string[half:], 16)\n",
        "ephemeral_public_key = Point(curve, ephemeral_public_key_x, ephemeral_public_key_y)\n",
        "#ephemeral_public_key = ec.Point(curve, ephemeral_public_key_string)\n",
        "\n",
        "#ephemeral_public_key = ECC.import_key(bytes.fromhex(ephemeral_public_key_hex))\n",
        "\n",
        "decrypted_message = decrypt_ecc(message, tag, nonce, ephemeral_public_key, private_key)\n",
        "\n",
        "# Cetak pesan yang didekripsi\n",
        "#print(\"message_for_decrypt:\",message_for_decrypt)\n",
        "print(\"Decrypted message:\", decrypted_message)\n"
      ],
      "metadata": {
        "colab": {
          "base_uri": "https://localhost:8080/"
        },
        "id": "TJipGjMrNDH7",
        "outputId": "c0789376-625d-49c3-a7c0-3b2e4d92554f"
      },
      "execution_count": 26,
      "outputs": [
        {
          "output_type": "stream",
          "name": "stdout",
          "text": [
            "Decrypted message: e6da202a9cf706076c5097f9688fe33f652ac5447e298a18318cac9b6d4c3d96\n"
          ]
        }
      ]
    }
  ]
}